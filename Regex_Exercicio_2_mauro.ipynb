{
  "nbformat": 4,
  "nbformat_minor": 0,
  "metadata": {
    "colab": {
      "provenance": [],
      "include_colab_link": true
    },
    "kernelspec": {
      "name": "python3",
      "display_name": "Python 3"
    },
    "language_info": {
      "name": "python"
    }
  },
  "cells": [
    {
      "cell_type": "markdown",
      "metadata": {
        "id": "view-in-github",
        "colab_type": "text"
      },
      "source": [
        "<a href=\"https://colab.research.google.com/github/micheloh/prd_abc/blob/master/Regex_Exercicio_2_mauro.ipynb\" target=\"_parent\"><img src=\"https://colab.research.google.com/assets/colab-badge.svg\" alt=\"Open In Colab\"/></a>"
      ]
    },
    {
      "cell_type": "markdown",
      "source": [
        "## **<center>Tópicos em NLP</center>**\n",
        "\n",
        "\n",
        "**<center>Exercitando com Expressões Regulares 2</center>**\n",
        "\n",
        "Neste notebook exploraremos um exemplo de aplicação de técnicas de expressões regulares em um problema de processamento de linguagem natural.\n",
        "\n",
        "No caso, foi criada uma peça jurídica fictícia onde constam a identificação de denunciados (nomes e CPFs/CNPJs) e deve-se coletar todos criando organizando-os em uma tabela.\n",
        "\n",
        "Essa peça pode ser baixada [neste link](https://github.com/alexvaroz/data_science_alem_do_basico/raw/master/toy_denuncia_regex.pdf). \n"
      ],
      "metadata": {
        "id": "_JIAHYS_O78F"
      }
    },
    {
      "cell_type": "code",
      "execution_count": null,
      "metadata": {
        "id": "yuxJf3e8Si34",
        "colab": {
          "base_uri": "https://localhost:8080/"
        },
        "outputId": "358fa85a-5a53-4d41-9a06-557993c7b9bb"
      },
      "outputs": [
        {
          "output_type": "stream",
          "name": "stdout",
          "text": [
            "\u001b[2K     \u001b[90m━━━━━━━━━━━━━━━━━━━━━━━━━━━━━━━━━━━━━━━━\u001b[0m \u001b[32m43.9/43.9 kB\u001b[0m \u001b[31m2.2 MB/s\u001b[0m eta \u001b[36m0:00:00\u001b[0m\n",
            "\u001b[2K     \u001b[90m━━━━━━━━━━━━━━━━━━━━━━━━━━━━━━━━━━━━━━━━\u001b[0m \u001b[32m5.6/5.6 MB\u001b[0m \u001b[31m38.3 MB/s\u001b[0m eta \u001b[36m0:00:00\u001b[0m\n",
            "\u001b[2K     \u001b[90m━━━━━━━━━━━━━━━━━━━━━━━━━━━━━━━━━━━━━━━\u001b[0m \u001b[32m143.6/143.6 kB\u001b[0m \u001b[31m7.2 MB/s\u001b[0m eta \u001b[36m0:00:00\u001b[0m\n",
            "\u001b[2K     \u001b[90m━━━━━━━━━━━━━━━━━━━━━━━━━━━━━━━━━━━━━━━━\u001b[0m \u001b[32m3.4/3.4 MB\u001b[0m \u001b[31m28.8 MB/s\u001b[0m eta \u001b[36m0:00:00\u001b[0m\n",
            "\u001b[?25h"
          ]
        }
      ],
      "source": [
        "# instalação da biblioteca PdfPlumber\n",
        "!pip install pdfplumber -q"
      ]
    },
    {
      "cell_type": "code",
      "source": [
        "# baixar arquivo da denúncia para o ambiente Colab\n",
        "!wget https://github.com/alexvaroz/data_science_alem_do_basico/raw/master/toy_denuncia_regex.pdf"
      ],
      "metadata": {
        "colab": {
          "base_uri": "https://localhost:8080/"
        },
        "id": "6HCcgybORz72",
        "outputId": "c2b62231-4131-42be-c58c-cfcafb383275"
      },
      "execution_count": null,
      "outputs": [
        {
          "output_type": "stream",
          "name": "stdout",
          "text": [
            "--2023-04-10 22:23:57--  https://github.com/alexvaroz/data_science_alem_do_basico/raw/master/toy_denuncia_regex.pdf\n",
            "Resolving github.com (github.com)... 140.82.112.3\n",
            "Connecting to github.com (github.com)|140.82.112.3|:443... connected.\n",
            "HTTP request sent, awaiting response... 302 Found\n",
            "Location: https://raw.githubusercontent.com/alexvaroz/data_science_alem_do_basico/master/toy_denuncia_regex.pdf [following]\n",
            "--2023-04-10 22:23:57--  https://raw.githubusercontent.com/alexvaroz/data_science_alem_do_basico/master/toy_denuncia_regex.pdf\n",
            "Resolving raw.githubusercontent.com (raw.githubusercontent.com)... 185.199.108.133, 185.199.109.133, 185.199.110.133, ...\n",
            "Connecting to raw.githubusercontent.com (raw.githubusercontent.com)|185.199.108.133|:443... connected.\n",
            "HTTP request sent, awaiting response... 200 OK\n",
            "Length: 59069 (58K) [application/octet-stream]\n",
            "Saving to: ‘toy_denuncia_regex.pdf’\n",
            "\n",
            "toy_denuncia_regex. 100%[===================>]  57.68K  --.-KB/s    in 0.001s  \n",
            "\n",
            "2023-04-10 22:23:57 (48.8 MB/s) - ‘toy_denuncia_regex.pdf’ saved [59069/59069]\n",
            "\n"
          ]
        }
      ]
    },
    {
      "cell_type": "code",
      "source": [
        "import pdfplumber\n",
        "import pandas as pd\n",
        "import re\n",
        "\n",
        "arquivo = '/content/toy_denuncia_regex.pdf'"
      ],
      "metadata": {
        "id": "DeQ16UIxS6wL"
      },
      "execution_count": null,
      "outputs": []
    },
    {
      "cell_type": "code",
      "source": [
        "pdf = pdfplumber.open(arquivo)\n",
        "\n",
        "# Quantidade de páginas do documento\n",
        "len(pdf.pages)"
      ],
      "metadata": {
        "colab": {
          "base_uri": "https://localhost:8080/"
        },
        "id": "rIYIZqplQ1un",
        "outputId": "9cc7ce04-21bd-45fd-9f7d-195054dae6b8"
      },
      "execution_count": null,
      "outputs": [
        {
          "output_type": "execute_result",
          "data": {
            "text/plain": [
              "1"
            ]
          },
          "metadata": {},
          "execution_count": 4
        }
      ]
    },
    {
      "cell_type": "code",
      "source": [
        "txt_denuncia = pdf.pages[0].extract_text()\n",
        "print(txt_denuncia)"
      ],
      "metadata": {
        "colab": {
          "base_uri": "https://localhost:8080/"
        },
        "id": "uuadv9rhSewv",
        "outputId": "769b3a1a-f271-4a59-9286-b99cec69e8b2"
      },
      "execution_count": null,
      "outputs": [
        {
          "output_type": "stream",
          "name": "stdout",
          "text": [
            "MINISTÉRIO PÚBLICO FEDERAL PROCURADORIA DA REPÚBLICA NO ESTADO\n",
            "DO RIO DE JANEIRO\n",
            "Núcleo de Combate à Corrupção\n",
            "EXCELENTÍSSIMO SENHOR JUIZ FEDERAL DA 7ª VARA FEDERAL CRIMINAL DA\n",
            "SEÇÃO JUDICIÁRIA DO RIO DE JANEIRO\n",
            "O Ministério Público Federal (MPF) apresentou denúncia contra 12 empresas,\n",
            "acusando-as de participar de um esquema de superfaturamento na compra de\n",
            "medicamentos pelo governo federal. Segundo a denúncia, as empresas - EMS\n",
            "(CNPJ: 00.000.000/0001-01), Eurofarma (CNPJ: 00.000.000/0002-02), Apsen\n",
            "(CNPJ: 00.000.000/0003-03), Biolab Sanus (CNPJ: 00.000.000/0004-04), Cristália\n",
            "(CNPJ: 00.000.000/0005-05), Germed (CNPJ: 00.000.000/0006-06), Hypera\n",
            "Pharma (CNPJ: 00.000.000/0007-07), Legrand Pharma (CNPJ: 00.000.000/0008-\n",
            "08), Nova Química (CNPJ: 00.000.000/0009-09), Prati-Donaduzzi (CNPJ:\n",
            "00.000.000/0010-10), Sanofi (CNPJ: 00.000.000/0011-11) e Teuto Brasileiro (CNPJ:\n",
            "00.000.000/0012-12) - teriam formado um cartel para manipular as licitações e\n",
            "aumentar os preços dos medicamentos vendidos ao governo.\n",
            "De acordo com as investigações, os responsáveis pelas empresas envolvidas no\n",
            "esquema seriam Carlos Silva (CPF: 012.345.678-90), CEO da EMS; Júlia Santos\n",
            "(CPF: 234.567.890-12), presidente da Eurofarma; Gustavo Lima (CPF: 456.789.012-\n",
            "34), diretor financeiro da Apsen; Luís Vieira (CPF: 678.901.234-56), presidente da\n",
            "Biolab Sanus; Pedro Carvalho (CPF: 890.123.456-78), CEO da Cristália; Marcelo\n",
            "Ribeiro (CPF: 123.456.789-00), presidente da Germed; Paulo Leite (CPF:\n",
            "345.678.901-23), CEO da Hypera Pharma; Márcio Costa (CPF: 567.890.123-45),\n",
            "diretor financeiro da Legrand Pharma; João Paulo Almeida (CPF: 789.012.345-67),\n",
            "presidente da Nova Química; Joana Santos (CPF: 901.234.567-89), CEO da Prati-\n",
            "Donaduzzi; Thiago Martins (CPF: 234.567.891-01), diretor financeiro da Sanofi; e\n",
            "Antônio Oliveira (CPF: 456.789.012-35), presidente do Teuto Brasileiro.\n",
            "A denúncia do MPF destaca ainda que os prejuízos causados pelo esquema de\n",
            "superfaturamento são enormes, uma vez que os medicamentos adquiridos pelo\n",
            "governo federal são destinados ao atendimento da população brasileira,\n",
            "especialmente dos mais vulneráveis.\n",
            "Caso a denúncia seja acolhida pela Justiça, os responsáveis pelas empresas\n",
            "envolvidas poderão ser condenados por formação de cartel, fraude à licitação e\n",
            "crime contra a ordem econômica. As penas podem chegar a 20 anos de prisão,\n",
            "além de multas e outras sanções previstas em lei.\n"
          ]
        }
      ]
    },
    {
      "cell_type": "markdown",
      "source": [
        "O primeiro passo será a captura do nome das empresas e respectivos CNPJs."
      ],
      "metadata": {
        "id": "lqgsj59UUz0w"
      }
    },
    {
      "cell_type": "code",
      "source": [
        "# padrao: <nome da empresa> (CNPJ: <CNPJ>)\n"
      ],
      "metadata": {
        "id": "z8zfsy-7TSr6"
      },
      "execution_count": null,
      "outputs": []
    },
    {
      "cell_type": "markdown",
      "source": [
        "Para tratar as informações coletadas, sugere-se preserva-las em um dataframe:"
      ],
      "metadata": {
        "id": "WFrLEs6Bgryf"
      }
    },
    {
      "cell_type": "code",
      "source": [
        "# Criando um dataframe para abrigar o resultado\n"
      ],
      "metadata": {
        "id": "-GZ8FxJZZBSz"
      },
      "execution_count": null,
      "outputs": []
    },
    {
      "cell_type": "markdown",
      "source": [
        "Importante realizar ajustes nos dados capturados. No caso, pode ser interessante tratar as quebras de linha eventualmente presentes na coleta."
      ],
      "metadata": {
        "id": "uSX66Mwtg9Jf"
      }
    },
    {
      "cell_type": "code",
      "source": [
        "# para corrigir os nomes e cnpj\n"
      ],
      "metadata": {
        "id": "gHeX-4jKZrtr"
      },
      "execution_count": null,
      "outputs": []
    },
    {
      "cell_type": "markdown",
      "source": [
        "Finalizada a coleta dos nomes das empresas e respectivos CNPJs, chega o momento de capturar os citados:"
      ],
      "metadata": {
        "id": "DI8H3P4BbDI8"
      }
    },
    {
      "cell_type": "code",
      "source": [
        "# padrao: <nome da citado> (CPF: <CPF>), <descrição do cargo>\n",
        "# exemplo: Thiago Martins (CPF: 234.567.891-01), diretor financeiro da Sanofi\n"
      ],
      "metadata": {
        "id": "x4FBceaubMjx"
      },
      "execution_count": null,
      "outputs": []
    },
    {
      "cell_type": "markdown",
      "source": [
        "Pensar na necessidade de ajustar os resultados..."
      ],
      "metadata": {
        "id": "kBgiqXQKhnD_"
      }
    },
    {
      "cell_type": "markdown",
      "source": [
        "Para identificar os nomes de empresa na descrição dos cargos, pode ser utilizada a lista de nomes de empresas coletadas vinculadas ao CNPJ para relacionar com a respectiva descrição."
      ],
      "metadata": {
        "id": "KHcTYYcEnVQ9"
      }
    },
    {
      "cell_type": "code",
      "source": [],
      "metadata": {
        "id": "8Y2t7_RNiv2a"
      },
      "execution_count": null,
      "outputs": []
    },
    {
      "cell_type": "markdown",
      "source": [
        "O resultado poderia ser exportado para um arquivo no formato .xlsx ."
      ],
      "metadata": {
        "id": "7mhtoSV0iyzL"
      }
    },
    {
      "cell_type": "code",
      "source": [],
      "metadata": {
        "id": "3Kfu8XyDiwdC"
      },
      "execution_count": null,
      "outputs": []
    },
    {
      "cell_type": "markdown",
      "source": [
        "O texto da denúncia foi gerado com o apoio do **ChatGPT**, utilizando o seguinte prompt:\n",
        "\n",
        "\"Como professor universitário, preciso de um exemplo de denuncia do MPF sobre um suposto esquema de superfaturamento na compra de remédios de alto custo envolvendo 12 empresas. Nessa denuncia deve constar os CNPJs e CPFs dos responsáveis por cada empresa.\"\n",
        "\n",
        "Que tal criar outros exemplos de texto para praticar??"
      ],
      "metadata": {
        "id": "2gOvjc63pYNJ"
      }
    }
  ]
}